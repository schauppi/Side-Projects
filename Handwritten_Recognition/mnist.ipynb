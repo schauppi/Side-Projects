{
 "cells": [
  {
   "cell_type": "code",
   "execution_count": 29,
   "metadata": {},
   "outputs": [],
   "source": [
    "import tensorflow as tf\n",
    "from tensorflow import keras\n",
    "from tensorflow.keras import layers\n",
    "import matplotlib.pyplot as plt"
   ]
  },
  {
   "cell_type": "code",
   "execution_count": 30,
   "metadata": {},
   "outputs": [],
   "source": [
    "dataset = keras.datasets.mnist\n",
    "dataset= dataset.load_data()"
   ]
  },
  {
   "cell_type": "code",
   "execution_count": 31,
   "metadata": {},
   "outputs": [],
   "source": [
    "(x_train_full, y_train_full), (x_test, y_test) = dataset"
   ]
  },
  {
   "cell_type": "code",
   "execution_count": 32,
   "metadata": {},
   "outputs": [
    {
     "name": "stdout",
     "output_type": "stream",
     "text": [
      "(60000, 28, 28)\n",
      "(60000,)\n"
     ]
    }
   ],
   "source": [
    "print(x_train_full.shape)\n",
    "print(y_train_full.shape)"
   ]
  },
  {
   "cell_type": "code",
   "execution_count": 33,
   "metadata": {},
   "outputs": [],
   "source": [
    "x_train = x_train_full[:50000] / 255.0\n",
    "x_valid = x_train_full[50000:] / 255.0\n",
    "y_train = y_train_full[:50000] \n",
    "y_valid = y_train_full[50000:]"
   ]
  },
  {
   "cell_type": "code",
   "execution_count": 34,
   "metadata": {},
   "outputs": [
    {
     "name": "stdout",
     "output_type": "stream",
     "text": [
      "(50000, 28, 28)\n",
      "(50000,)\n",
      "(10000, 28, 28)\n",
      "(10000,)\n",
      "(10000, 28, 28)\n"
     ]
    }
   ],
   "source": [
    "print(x_train.shape)\n",
    "print(y_train.shape)\n",
    "print(x_valid.shape)\n",
    "print(y_valid.shape)\n",
    "print(x_test.shape)"
   ]
  },
  {
   "cell_type": "code",
   "execution_count": 35,
   "metadata": {},
   "outputs": [],
   "source": [
    "model = keras.Sequential(\n",
    "    [\n",
    "    layers.Flatten(input_shape=[28,28]),\n",
    "    layers.Dense(30, activation=\"relu\"),\n",
    "    layers.Dense(15, activation=\"relu\"),\n",
    "    layers.Dense(10, activation=\"softmax\")\n",
    "    ])"
   ]
  },
  {
   "cell_type": "code",
   "execution_count": 36,
   "metadata": {},
   "outputs": [
    {
     "name": "stdout",
     "output_type": "stream",
     "text": [
      "Model: \"sequential_1\"\n",
      "_________________________________________________________________\n",
      "Layer (type)                 Output Shape              Param #   \n",
      "=================================================================\n",
      "flatten_1 (Flatten)          (None, 784)               0         \n",
      "_________________________________________________________________\n",
      "dense_3 (Dense)              (None, 30)                23550     \n",
      "_________________________________________________________________\n",
      "dense_4 (Dense)              (None, 15)                465       \n",
      "_________________________________________________________________\n",
      "dense_5 (Dense)              (None, 10)                160       \n",
      "=================================================================\n",
      "Total params: 24,175\n",
      "Trainable params: 24,175\n",
      "Non-trainable params: 0\n",
      "_________________________________________________________________\n"
     ]
    }
   ],
   "source": [
    "model.summary()"
   ]
  },
  {
   "cell_type": "code",
   "execution_count": 37,
   "metadata": {},
   "outputs": [],
   "source": [
    "model.compile(optimizer=\"sgd\", loss=\"sparse_categorical_crossentropy\", metrics=['accuracy'])"
   ]
  },
  {
   "cell_type": "code",
   "execution_count": 38,
   "metadata": {},
   "outputs": [
    {
     "name": "stdout",
     "output_type": "stream",
     "text": [
      "Train on 50000 samples, validate on 10000 samples\n",
      "Epoch 1/10\n",
      "50000/50000 [==============================] - 5s 105us/sample - loss: 0.9017 - accuracy: 0.7380 - val_loss: 0.3700 - val_accuracy: 0.8987\n",
      "Epoch 2/10\n",
      "50000/50000 [==============================] - 5s 98us/sample - loss: 0.3537 - accuracy: 0.8991 - val_loss: 0.3053 - val_accuracy: 0.9130\n",
      "Epoch 3/10\n",
      "50000/50000 [==============================] - 5s 93us/sample - loss: 0.3018 - accuracy: 0.9136 - val_loss: 0.2658 - val_accuracy: 0.9248\n",
      "Epoch 4/10\n",
      "50000/50000 [==============================] - 5s 95us/sample - loss: 0.2719 - accuracy: 0.9212 - val_loss: 0.2436 - val_accuracy: 0.9338\n",
      "Epoch 5/10\n",
      "50000/50000 [==============================] - 5s 94us/sample - loss: 0.2496 - accuracy: 0.9289 - val_loss: 0.2272 - val_accuracy: 0.9362\n",
      "Epoch 6/10\n",
      "50000/50000 [==============================] - 5s 98us/sample - loss: 0.2319 - accuracy: 0.9332 - val_loss: 0.2151 - val_accuracy: 0.9397\n",
      "Epoch 7/10\n",
      "50000/50000 [==============================] - 5s 99us/sample - loss: 0.2161 - accuracy: 0.9378 - val_loss: 0.2005 - val_accuracy: 0.9454\n",
      "Epoch 8/10\n",
      "50000/50000 [==============================] - 5s 97us/sample - loss: 0.2035 - accuracy: 0.9404 - val_loss: 0.1911 - val_accuracy: 0.9480\n",
      "Epoch 9/10\n",
      "50000/50000 [==============================] - 5s 97us/sample - loss: 0.1919 - accuracy: 0.9447 - val_loss: 0.1808 - val_accuracy: 0.9491\n",
      "Epoch 10/10\n",
      "50000/50000 [==============================] - 5s 98us/sample - loss: 0.1819 - accuracy: 0.9474 - val_loss: 0.1743 - val_accuracy: 0.9509\n"
     ]
    }
   ],
   "source": [
    "history = model.fit(x_train, y_train, validation_data=(x_valid, y_valid), epochs=10)"
   ]
  },
  {
   "cell_type": "code",
   "execution_count": 39,
   "metadata": {},
   "outputs": [
    {
     "data": {
      "text/plain": [
       "{'loss': [0.9016864336967468,\n",
       "  0.3537348445558548,\n",
       "  0.3017701617383957,\n",
       "  0.2719111491394043,\n",
       "  0.2495925300848484,\n",
       "  0.23187967885136604,\n",
       "  0.21613794746875764,\n",
       "  0.2034630191028118,\n",
       "  0.19188552963256836,\n",
       "  0.18191079535603524],\n",
       " 'accuracy': [0.738,\n",
       "  0.89908,\n",
       "  0.91358,\n",
       "  0.92116,\n",
       "  0.92888,\n",
       "  0.93316,\n",
       "  0.93782,\n",
       "  0.94038,\n",
       "  0.94474,\n",
       "  0.94736],\n",
       " 'val_loss': [0.3700082209467888,\n",
       "  0.30534083847403526,\n",
       "  0.26582312797307966,\n",
       "  0.24360525722503662,\n",
       "  0.22721773484051228,\n",
       "  0.21513794669210912,\n",
       "  0.2005011132478714,\n",
       "  0.19106347564011814,\n",
       "  0.1808282139018178,\n",
       "  0.1743471334040165],\n",
       " 'val_accuracy': [0.8987,\n",
       "  0.913,\n",
       "  0.9248,\n",
       "  0.9338,\n",
       "  0.9362,\n",
       "  0.9397,\n",
       "  0.9454,\n",
       "  0.948,\n",
       "  0.9491,\n",
       "  0.9509]}"
      ]
     },
     "execution_count": 39,
     "metadata": {},
     "output_type": "execute_result"
    }
   ],
   "source": [
    "history.history"
   ]
  },
  {
   "cell_type": "code",
   "execution_count": 40,
   "metadata": {},
   "outputs": [],
   "source": [
    "loss = history.history[\"loss\"]\n",
    "accuracy = history.history[\"accuracy\"]\n",
    "val_loss = history.history[\"val_loss\"]\n",
    "val_acc = history.history[\"val_accuracy\"]"
   ]
  },
  {
   "cell_type": "code",
   "execution_count": 41,
   "metadata": {},
   "outputs": [
    {
     "data": {
      "text/plain": [
       "<matplotlib.legend.Legend at 0x7f8b4e4e9e10>"
      ]
     },
     "execution_count": 41,
     "metadata": {},
     "output_type": "execute_result"
    },
    {
     "data": {
      "image/png": "[encoded data removed]",
      "text/plain": [
       "<Figure size 432x288 with 1 Axes>"
      ]
     },
     "metadata": {
      "needs_background": "light"
     },
     "output_type": "display_data"
    }
   ],
   "source": [
    "plt.plot(loss, label=\"loss\")\n",
    "plt.plot(accuracy, label=\"accuracy\")\n",
    "plt.plot(val_loss, label=\"val_loss\")\n",
    "plt.plot(val_acc, label=\"val_acc\")\n",
    "plt.legend()"
   ]
  },
  {
   "cell_type": "code",
   "execution_count": 42,
   "metadata": {},
   "outputs": [],
   "source": [
    "classes = [0, 1, 2, 3, 4, 5, 6, 7, 8, 9]"
   ]
  },
  {
   "cell_type": "code",
   "execution_count": 45,
   "metadata": {},
   "outputs": [],
   "source": [
    "x_pred = x_test[:1]"
   ]
  },
  {
   "cell_type": "code",
   "execution_count": 46,
   "metadata": {},
   "outputs": [],
   "source": [
    "y_hat = model.predict_classes(x_pred)"
   ]
  },
  {
   "cell_type": "code",
   "execution_count": null,
   "metadata": {},
   "outputs": [],
   "source": [
    "for i in range(len(y_hat)):\n",
    "    print(\"actual digit: \", classes[y_test[i]], \"predicted digit: \", classes[y_hat[i]])\n",
    "    if classes[y_test[i]] == classes[y_hat[i]]:\n",
    "        print(\"correct prediction\")\n",
    "    else:\n",
    "        print(\"incorrect prediction\")"
   ]
  },
  {
   "cell_type": "code",
   "execution_count": null,
   "metadata": {},
   "outputs": [],
   "source": [
    "for i in range(len(y_hat)):\n",
    "    image = x_pred[i]\n",
    "    fig = plt.figure\n",
    "    plt.imshow(image, cmap='gray')\n",
    "    plt.show()"
   ]
  },
  {
   "cell_type": "code",
   "execution_count": 47,
   "metadata": {},
   "outputs": [],
   "source": [
    "y_hat = model.predict_classes(x_pred)"
   ]
  },
  {
   "cell_type": "code",
   "execution_count": 57,
   "metadata": {},
   "outputs": [],
   "source": [
    "im = Image.open(\"image.png\")\n",
    "im = np.resize(im, (28,28,1))\n",
    "im2arr = np.array(im)\n",
    "im2arr = im2arr.reshape(1,28,28)\n",
    "x_pred = im2arr / 255.0\n",
    "pred = model.predict(x_pred)"
   ]
  },
  {
   "cell_type": "code",
   "execution_count": 59,
   "metadata": {},
   "outputs": [
    {
     "data": {
      "text/plain": [
       "array([[0.06543574, 0.03326679, 0.12225729, 0.03843772, 0.15359582,\n",
       "        0.3325332 , 0.1208318 , 0.04829444, 0.03241678, 0.05293035]],\n",
       "      dtype=float32)"
      ]
     },
     "execution_count": 59,
     "metadata": {},
     "output_type": "execute_result"
    }
   ],
   "source": [
    "pred"
   ]
  },
  {
   "cell_type": "code",
   "execution_count": null,
   "metadata": {},
   "outputs": [],
   "source": []
  }
 ],
 "metadata": {
  "kernelspec": {
   "display_name": "Python 3",
   "language": "python",
   "name": "python3"
  },
  "language_info": {
   "codemirror_mode": {
    "name": "ipython",
    "version": 3
   },
   "file_extension": ".py",
   "mimetype": "text/x-python",
   "name": "python",
   "nbconvert_exporter": "python",
   "pygments_lexer": "ipython3",
   "version": "3.7.9"
  }
 },
 "nbformat": 4,
 "nbformat_minor": 4
}
