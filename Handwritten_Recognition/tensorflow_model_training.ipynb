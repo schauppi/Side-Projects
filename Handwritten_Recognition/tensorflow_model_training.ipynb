{
 "cells": [
  {
   "cell_type": "code",
   "execution_count": 258,
   "metadata": {},
   "outputs": [],
   "source": [
    "import tensorflow as tf\n",
    "from tensorflow import keras\n",
    "from tensorflow.keras import layers\n",
    "import matplotlib.pyplot as plt"
   ]
  },
  {
   "cell_type": "code",
   "execution_count": 259,
   "metadata": {},
   "outputs": [],
   "source": [
    "#Load the mnist Dataset\n",
    "dataset = keras.datasets.mnist\n",
    "dataset= dataset.load_data()\n",
    "(x_train_full, y_train_full), (x_test, y_test) = dataset"
   ]
  },
  {
   "cell_type": "code",
   "execution_count": 260,
   "metadata": {},
   "outputs": [],
   "source": [
    "#Split into train and validation set\n",
    "x_train = x_train_full[:55000] / 255.0 #normalize Data\n",
    "x_valid = x_train_full[55000:] / 255.0\n",
    "y_train = y_train_full[:55000]\n",
    "y_valid = y_train_full[55000:]"
   ]
  },
  {
   "cell_type": "code",
   "execution_count": 261,
   "metadata": {},
   "outputs": [],
   "source": [
    "#Create Model using functional API\n",
    "input_ = keras.layers.Input(shape=(28,28))\n",
    "flatten = keras.layers.Flatten()(input_)\n",
    "hidden1 = keras.layers.Dense(30, activation=\"relu\")(flatten)\n",
    "hidden2 = keras.layers.Dense(30, activation=\"relu\")(hidden1)\n",
    "output= keras.layers.Dense(10, activation=\"softmax\")(hidden2)\n",
    "model = keras.Model(inputs=[input_], outputs=[output])"
   ]
  },
  {
   "cell_type": "code",
   "execution_count": 262,
   "metadata": {},
   "outputs": [],
   "source": [
    "#model = keras.Sequential(\n",
    "#    [\n",
    "#    layers.Flatten(input_shape=[28,28]),\n",
    "#    layers.Dense(30, activation=\"relu\"),\n",
    "#    layers.Dense(15, activation=\"relu\"),\n",
    "#    layers.Dense(10, activation=\"softmax\")\n",
    "#    ])"
   ]
  },
  {
   "cell_type": "code",
   "execution_count": 263,
   "metadata": {},
   "outputs": [
    {
     "name": "stdout",
     "output_type": "stream",
     "text": [
      "Model: \"model_3\"\n",
      "_________________________________________________________________\n",
      "Layer (type)                 Output Shape              Param #   \n",
      "=================================================================\n",
      "input_4 (InputLayer)         [(None, 28, 28)]          0         \n",
      "_________________________________________________________________\n",
      "flatten_7 (Flatten)          (None, 784)               0         \n",
      "_________________________________________________________________\n",
      "dense_21 (Dense)             (None, 30)                23550     \n",
      "_________________________________________________________________\n",
      "dense_22 (Dense)             (None, 30)                930       \n",
      "_________________________________________________________________\n",
      "dense_23 (Dense)             (None, 10)                310       \n",
      "=================================================================\n",
      "Total params: 24,790\n",
      "Trainable params: 24,790\n",
      "Non-trainable params: 0\n",
      "_________________________________________________________________\n"
     ]
    }
   ],
   "source": [
    "model.summary()"
   ]
  },
  {
   "cell_type": "code",
   "execution_count": 264,
   "metadata": {},
   "outputs": [],
   "source": [
    "model.compile(optimizer=\"sgd\", loss='sparse_categorical_crossentropy', metrics=[\"accuracy\"])"
   ]
  },
  {
   "cell_type": "code",
   "execution_count": 265,
   "metadata": {},
   "outputs": [
    {
     "name": "stdout",
     "output_type": "stream",
     "text": [
      "Train on 55000 samples, validate on 5000 samples\n",
      "Epoch 1/10\n",
      "55000/55000 [==============================] - 5s 91us/sample - loss: 0.8120 - accuracy: 0.7709 - val_loss: 0.3184 - val_accuracy: 0.9166\n",
      "Epoch 2/10\n",
      "55000/55000 [==============================] - 5s 85us/sample - loss: 0.3446 - accuracy: 0.9017 - val_loss: 0.2408 - val_accuracy: 0.9344\n",
      "Epoch 3/10\n",
      "55000/55000 [==============================] - 5s 87us/sample - loss: 0.2875 - accuracy: 0.9179 - val_loss: 0.2080 - val_accuracy: 0.9422\n",
      "Epoch 4/10\n",
      "55000/55000 [==============================] - 5s 86us/sample - loss: 0.2554 - accuracy: 0.9264 - val_loss: 0.1913 - val_accuracy: 0.9474\n",
      "Epoch 5/10\n",
      "55000/55000 [==============================] - 5s 87us/sample - loss: 0.2325 - accuracy: 0.9331 - val_loss: 0.1768 - val_accuracy: 0.9484\n",
      "Epoch 6/10\n",
      "55000/55000 [==============================] - 5s 88us/sample - loss: 0.2142 - accuracy: 0.9379 - val_loss: 0.1663 - val_accuracy: 0.9546\n",
      "Epoch 7/10\n",
      "55000/55000 [==============================] - 5s 91us/sample - loss: 0.2000 - accuracy: 0.9417 - val_loss: 0.1568 - val_accuracy: 0.9584\n",
      "Epoch 8/10\n",
      "55000/55000 [==============================] - 5s 89us/sample - loss: 0.1880 - accuracy: 0.9455 - val_loss: 0.1546 - val_accuracy: 0.9588\n",
      "Epoch 9/10\n",
      "55000/55000 [==============================] - 5s 90us/sample - loss: 0.1781 - accuracy: 0.9477 - val_loss: 0.1457 - val_accuracy: 0.9620\n",
      "Epoch 10/10\n",
      "55000/55000 [==============================] - 5s 89us/sample - loss: 0.1682 - accuracy: 0.9517 - val_loss: 0.1391 - val_accuracy: 0.9622\n"
     ]
    }
   ],
   "source": [
    "history = model.fit(x_train, y_train, validation_data=(x_valid, y_valid), epochs=10)"
   ]
  },
  {
   "cell_type": "code",
   "execution_count": 266,
   "metadata": {},
   "outputs": [
    {
     "data": {
      "text/plain": [
       "<matplotlib.legend.Legend at 0x7fcc77a18550>"
      ]
     },
     "execution_count": 266,
     "metadata": {},
     "output_type": "execute_result"
    },
    {
     "data": {
      "image/png": "[encoded data removed]",
      "text/plain": [
       "<Figure size 432x288 with 1 Axes>"
      ]
     },
     "metadata": {
      "needs_background": "light"
     },
     "output_type": "display_data"
    }
   ],
   "source": [
    "loss = history.history[\"loss\"]\n",
    "accuracy = history.history[\"accuracy\"]\n",
    "val_loss = history.history[\"val_loss\"]\n",
    "val_accuracy = history.history[\"val_accuracy\"]\n",
    "plt.plot(loss, label=\"loss\")\n",
    "plt.plot(accuracy, label=\"accuracy\")\n",
    "plt.plot(val_loss, label=\"val_loss\")\n",
    "plt.plot(val_accuracy, label=\"val_accuracy\")\n",
    "plt.legend()"
   ]
  },
  {
   "cell_type": "code",
   "execution_count": 267,
   "metadata": {},
   "outputs": [],
   "source": [
    "model.save(\"handwritten_recognition_model.h5\")"
   ]
  }
 ],
 "metadata": {
  "kernelspec": {
   "display_name": "Python 3",
   "language": "python",
   "name": "python3"
  },
  "language_info": {
   "codemirror_mode": {
    "name": "ipython",
    "version": 3
   },
   "file_extension": ".py",
   "mimetype": "text/x-python",
   "name": "python",
   "nbconvert_exporter": "python",
   "pygments_lexer": "ipython3",
   "version": "3.7.9"
  }
 },
 "nbformat": 4,
 "nbformat_minor": 4
}
